{
 "cells": [
  {
   "cell_type": "markdown",
   "id": "13cd61c8-c1af-4865-8706-1ca93b822086",
   "metadata": {
    "tags": []
   },
   "source": [
    "# Convert annotations.csv file to the required format in Tensorflow"
   ]
  },
  {
   "cell_type": "markdown",
   "id": "a6d3a28c-c85c-42ce-b3a1-ca99357603bf",
   "metadata": {},
   "source": [
    "### Import pandas library"
   ]
  },
  {
   "cell_type": "code",
   "execution_count": 17,
   "id": "8e628fcd-2b92-4f9b-87e2-1bbbb7592ee6",
   "metadata": {
    "tags": []
   },
   "outputs": [],
   "source": [
    "import pandas as pd"
   ]
  },
  {
   "cell_type": "markdown",
   "id": "e5956bcb-1d98-4162-9963-f55fe74ffbc8",
   "metadata": {},
   "source": [
    "### Input file : "
   ]
  },
  {
   "cell_type": "code",
   "execution_count": 18,
   "id": "2517c2ba-7c88-46d6-8c5a-5043dbcfdb34",
   "metadata": {
    "tags": []
   },
   "outputs": [
    {
     "data": {
      "text/plain": [
       "'/root/data transformation'"
      ]
     },
     "execution_count": 18,
     "metadata": {},
     "output_type": "execute_result"
    }
   ],
   "source": [
    "pwd"
   ]
  },
  {
   "cell_type": "code",
   "execution_count": 19,
   "id": "5b161d9a-f8e6-4654-9198-b1105f934647",
   "metadata": {
    "tags": []
   },
   "outputs": [],
   "source": [
    "train_labels_path = \"/root/PlantDoc-Object-Detection-Dataset/train_labels.csv\""
   ]
  },
  {
   "cell_type": "code",
   "execution_count": 20,
   "id": "115646a0-2a3e-49ce-83c9-b565763c21e6",
   "metadata": {
    "tags": []
   },
   "outputs": [
    {
     "data": {
      "text/plain": [
       "'/root/data transformation'"
      ]
     },
     "execution_count": 20,
     "metadata": {},
     "output_type": "execute_result"
    }
   ],
   "source": [
    "pwd"
   ]
  },
  {
   "cell_type": "code",
   "execution_count": 21,
   "id": "0cdc80c5-3ccc-43f5-b4a4-776f45f98c1f",
   "metadata": {
    "tags": []
   },
   "outputs": [],
   "source": [
    "train_labels_df = pd.read_csv(train_labels_path)"
   ]
  },
  {
   "cell_type": "code",
   "execution_count": 22,
   "id": "d1537564-05a3-421b-9ae6-40487f5c2141",
   "metadata": {
    "tags": []
   },
   "outputs": [
    {
     "data": {
      "text/plain": [
       "(8461, 8)"
      ]
     },
     "execution_count": 22,
     "metadata": {},
     "output_type": "execute_result"
    }
   ],
   "source": [
    "train_labels_df.shape"
   ]
  },
  {
   "cell_type": "code",
   "execution_count": 23,
   "id": "67944cd5-0bcf-4c96-8def-22a514a86ecf",
   "metadata": {
    "tags": []
   },
   "outputs": [
    {
     "data": {
      "text/html": [
       "<div>\n",
       "<style scoped>\n",
       "    .dataframe tbody tr th:only-of-type {\n",
       "        vertical-align: middle;\n",
       "    }\n",
       "\n",
       "    .dataframe tbody tr th {\n",
       "        vertical-align: top;\n",
       "    }\n",
       "\n",
       "    .dataframe thead th {\n",
       "        text-align: right;\n",
       "    }\n",
       "</style>\n",
       "<table border=\"1\" class=\"dataframe\">\n",
       "  <thead>\n",
       "    <tr style=\"text-align: right;\">\n",
       "      <th></th>\n",
       "      <th>filename</th>\n",
       "      <th>width</th>\n",
       "      <th>height</th>\n",
       "      <th>class</th>\n",
       "      <th>xmin</th>\n",
       "      <th>ymin</th>\n",
       "      <th>xmax</th>\n",
       "      <th>ymax</th>\n",
       "    </tr>\n",
       "  </thead>\n",
       "  <tbody>\n",
       "    <tr>\n",
       "      <th>0</th>\n",
       "      <td>cherry-tree-leaves-and-fruits.jpg</td>\n",
       "      <td>350</td>\n",
       "      <td>300</td>\n",
       "      <td>Cherry leaf</td>\n",
       "      <td>198</td>\n",
       "      <td>77</td>\n",
       "      <td>299</td>\n",
       "      <td>252</td>\n",
       "    </tr>\n",
       "    <tr>\n",
       "      <th>1</th>\n",
       "      <td>cherry-tree-leaves-and-fruits.jpg</td>\n",
       "      <td>350</td>\n",
       "      <td>300</td>\n",
       "      <td>Cherry leaf</td>\n",
       "      <td>3</td>\n",
       "      <td>114</td>\n",
       "      <td>148</td>\n",
       "      <td>235</td>\n",
       "    </tr>\n",
       "    <tr>\n",
       "      <th>2</th>\n",
       "      <td>cherry-tree-leaves-and-fruits.jpg</td>\n",
       "      <td>350</td>\n",
       "      <td>300</td>\n",
       "      <td>Cherry leaf</td>\n",
       "      <td>30</td>\n",
       "      <td>184</td>\n",
       "      <td>189</td>\n",
       "      <td>297</td>\n",
       "    </tr>\n",
       "    <tr>\n",
       "      <th>3</th>\n",
       "      <td>cherry-tree-leaves-and-fruits.jpg</td>\n",
       "      <td>350</td>\n",
       "      <td>300</td>\n",
       "      <td>Cherry leaf</td>\n",
       "      <td>226</td>\n",
       "      <td>4</td>\n",
       "      <td>346</td>\n",
       "      <td>83</td>\n",
       "    </tr>\n",
       "    <tr>\n",
       "      <th>4</th>\n",
       "      <td>peach-and-leaf-stock-image-2809275.jpg</td>\n",
       "      <td>1300</td>\n",
       "      <td>1099</td>\n",
       "      <td>Peach leaf</td>\n",
       "      <td>237</td>\n",
       "      <td>479</td>\n",
       "      <td>527</td>\n",
       "      <td>810</td>\n",
       "    </tr>\n",
       "  </tbody>\n",
       "</table>\n",
       "</div>"
      ],
      "text/plain": [
       "                                 filename  width  height        class  xmin  \\\n",
       "0       cherry-tree-leaves-and-fruits.jpg    350     300  Cherry leaf   198   \n",
       "1       cherry-tree-leaves-and-fruits.jpg    350     300  Cherry leaf     3   \n",
       "2       cherry-tree-leaves-and-fruits.jpg    350     300  Cherry leaf    30   \n",
       "3       cherry-tree-leaves-and-fruits.jpg    350     300  Cherry leaf   226   \n",
       "4  peach-and-leaf-stock-image-2809275.jpg   1300    1099   Peach leaf   237   \n",
       "\n",
       "   ymin  xmax  ymax  \n",
       "0    77   299   252  \n",
       "1   114   148   235  \n",
       "2   184   189   297  \n",
       "3     4   346    83  \n",
       "4   479   527   810  "
      ]
     },
     "execution_count": 23,
     "metadata": {},
     "output_type": "execute_result"
    }
   ],
   "source": [
    "train_labels_df.head()"
   ]
  },
  {
   "cell_type": "code",
   "execution_count": 24,
   "id": "6bd0a251-f70e-4529-9ebc-a862157f337b",
   "metadata": {
    "tags": []
   },
   "outputs": [
    {
     "data": {
      "text/plain": [
       "filename    object\n",
       "width        int64\n",
       "height       int64\n",
       "class       object\n",
       "xmin         int64\n",
       "ymin         int64\n",
       "xmax         int64\n",
       "ymax         int64\n",
       "dtype: object"
      ]
     },
     "execution_count": 24,
     "metadata": {},
     "output_type": "execute_result"
    }
   ],
   "source": [
    "train_labels_df.dtypes"
   ]
  },
  {
   "cell_type": "code",
   "execution_count": 25,
   "id": "7143ff24-ecb9-473f-8bbf-1e9d12c2a856",
   "metadata": {
    "tags": []
   },
   "outputs": [],
   "source": [
    "train_labels_df = train_labels_df[train_labels_df[\"height\"] !=0]"
   ]
  },
  {
   "cell_type": "code",
   "execution_count": 26,
   "id": "f2b7dd68-94d2-4539-a912-8d0a80582bd0",
   "metadata": {
    "tags": []
   },
   "outputs": [
    {
     "data": {
      "text/plain": [
       "(8457, 8)"
      ]
     },
     "execution_count": 26,
     "metadata": {},
     "output_type": "execute_result"
    }
   ],
   "source": [
    "train_labels_df.shape"
   ]
  },
  {
   "cell_type": "markdown",
   "id": "92ef8037-ee0d-4749-9302-46af0292252e",
   "metadata": {},
   "source": [
    "### Output format : \n",
    "``` \n",
    "The annotations.json file should contain information for bounding boxes and their class labels in the form of a dictionary \"images\" and \"annotations\" keys. The value for the \"images\" key should be a list of dictionaries. There should be one dictionary for each image with the following information: {\"file_name\": image_name, \"height\": height, \"width\": width, \"id\": image_id}. The value for the \"annotations\" key should also be a list of dictionaries. There should be one dictionary for each bounding box with the following information: {\"image_id\": image_id, \"bbox\": [xmin, ymin, xmax, ymax], \"category_id\": bbox_label}.\n",
    "```"
   ]
  },
  {
   "cell_type": "markdown",
   "id": "801db1e6-5c36-4c1e-952b-22ea1ba9111e",
   "metadata": {},
   "source": [
    "### Adding \"id\" column : "
   ]
  },
  {
   "cell_type": "code",
   "execution_count": 27,
   "id": "bb884dc0-3f48-451c-b1c6-7c916f1722a9",
   "metadata": {
    "tags": []
   },
   "outputs": [
    {
     "data": {
      "text/html": [
       "<div>\n",
       "<style scoped>\n",
       "    .dataframe tbody tr th:only-of-type {\n",
       "        vertical-align: middle;\n",
       "    }\n",
       "\n",
       "    .dataframe tbody tr th {\n",
       "        vertical-align: top;\n",
       "    }\n",
       "\n",
       "    .dataframe thead th {\n",
       "        text-align: right;\n",
       "    }\n",
       "</style>\n",
       "<table border=\"1\" class=\"dataframe\">\n",
       "  <thead>\n",
       "    <tr style=\"text-align: right;\">\n",
       "      <th></th>\n",
       "      <th>filename</th>\n",
       "      <th>width</th>\n",
       "      <th>height</th>\n",
       "      <th>class</th>\n",
       "      <th>xmin</th>\n",
       "      <th>ymin</th>\n",
       "      <th>xmax</th>\n",
       "      <th>ymax</th>\n",
       "    </tr>\n",
       "  </thead>\n",
       "  <tbody>\n",
       "    <tr>\n",
       "      <th>0</th>\n",
       "      <td>cherry-tree-leaves-and-fruits.jpg</td>\n",
       "      <td>350</td>\n",
       "      <td>300</td>\n",
       "      <td>Cherry leaf</td>\n",
       "      <td>198</td>\n",
       "      <td>77</td>\n",
       "      <td>299</td>\n",
       "      <td>252</td>\n",
       "    </tr>\n",
       "    <tr>\n",
       "      <th>1</th>\n",
       "      <td>cherry-tree-leaves-and-fruits.jpg</td>\n",
       "      <td>350</td>\n",
       "      <td>300</td>\n",
       "      <td>Cherry leaf</td>\n",
       "      <td>3</td>\n",
       "      <td>114</td>\n",
       "      <td>148</td>\n",
       "      <td>235</td>\n",
       "    </tr>\n",
       "    <tr>\n",
       "      <th>2</th>\n",
       "      <td>cherry-tree-leaves-and-fruits.jpg</td>\n",
       "      <td>350</td>\n",
       "      <td>300</td>\n",
       "      <td>Cherry leaf</td>\n",
       "      <td>30</td>\n",
       "      <td>184</td>\n",
       "      <td>189</td>\n",
       "      <td>297</td>\n",
       "    </tr>\n",
       "    <tr>\n",
       "      <th>3</th>\n",
       "      <td>cherry-tree-leaves-and-fruits.jpg</td>\n",
       "      <td>350</td>\n",
       "      <td>300</td>\n",
       "      <td>Cherry leaf</td>\n",
       "      <td>226</td>\n",
       "      <td>4</td>\n",
       "      <td>346</td>\n",
       "      <td>83</td>\n",
       "    </tr>\n",
       "    <tr>\n",
       "      <th>4</th>\n",
       "      <td>peach-and-leaf-stock-image-2809275.jpg</td>\n",
       "      <td>1300</td>\n",
       "      <td>1099</td>\n",
       "      <td>Peach leaf</td>\n",
       "      <td>237</td>\n",
       "      <td>479</td>\n",
       "      <td>527</td>\n",
       "      <td>810</td>\n",
       "    </tr>\n",
       "  </tbody>\n",
       "</table>\n",
       "</div>"
      ],
      "text/plain": [
       "                                 filename  width  height        class  xmin  \\\n",
       "0       cherry-tree-leaves-and-fruits.jpg    350     300  Cherry leaf   198   \n",
       "1       cherry-tree-leaves-and-fruits.jpg    350     300  Cherry leaf     3   \n",
       "2       cherry-tree-leaves-and-fruits.jpg    350     300  Cherry leaf    30   \n",
       "3       cherry-tree-leaves-and-fruits.jpg    350     300  Cherry leaf   226   \n",
       "4  peach-and-leaf-stock-image-2809275.jpg   1300    1099   Peach leaf   237   \n",
       "\n",
       "   ymin  xmax  ymax  \n",
       "0    77   299   252  \n",
       "1   114   148   235  \n",
       "2   184   189   297  \n",
       "3     4   346    83  \n",
       "4   479   527   810  "
      ]
     },
     "execution_count": 27,
     "metadata": {},
     "output_type": "execute_result"
    }
   ],
   "source": [
    "train_labels_df.head()"
   ]
  },
  {
   "cell_type": "code",
   "execution_count": 28,
   "id": "ec7400e8-433e-428e-ac5c-060e80d41d2f",
   "metadata": {
    "tags": []
   },
   "outputs": [
    {
     "data": {
      "text/plain": [
       "0            cherry-tree-leaves-and-fruits.jpg\n",
       "1       peach-and-leaf-stock-image-2809275.jpg\n",
       "2                         foodjuly2011+026.jpg\n",
       "3                                     NCLB.jpg\n",
       "4                        applerust-500x383.jpg\n",
       "                         ...                  \n",
       "2330                               020.JPG.jpg\n",
       "2331         6134794031202304-600x272.jpeg.jpg\n",
       "2332       pddl-highlights-fig-1-bact-spot.jpg\n",
       "2333           bacterialLeafSpot07-2jqdlmz.jpg\n",
       "2334             2159_0.jpeg?itok=eBFRbolm.jpg\n",
       "Name: filename, Length: 2335, dtype: object"
      ]
     },
     "execution_count": 28,
     "metadata": {},
     "output_type": "execute_result"
    }
   ],
   "source": [
    "train_labels_df[\"filename\"].drop_duplicates().reset_index(drop=True)"
   ]
  },
  {
   "cell_type": "code",
   "execution_count": 29,
   "id": "56579084-35e8-406f-8420-7a68f26b5e87",
   "metadata": {
    "tags": []
   },
   "outputs": [],
   "source": [
    "new_df = pd.DataFrame() # new data frame \n",
    "# Keep single file names: \n",
    "new_df[\"filename\"] = train_labels_df[\"filename\"].drop_duplicates().reset_index(drop=True)\n",
    "# DataFrame.index = the index (row labels) of the DataFrame.\n",
    "new_df[\"image_id\"] = new_df[\"filename\"].index "
   ]
  },
  {
   "cell_type": "code",
   "execution_count": 30,
   "id": "4adc6b44-56c2-434c-a610-c3b5106b55ea",
   "metadata": {
    "tags": []
   },
   "outputs": [
    {
     "data": {
      "text/html": [
       "<div>\n",
       "<style scoped>\n",
       "    .dataframe tbody tr th:only-of-type {\n",
       "        vertical-align: middle;\n",
       "    }\n",
       "\n",
       "    .dataframe tbody tr th {\n",
       "        vertical-align: top;\n",
       "    }\n",
       "\n",
       "    .dataframe thead th {\n",
       "        text-align: right;\n",
       "    }\n",
       "</style>\n",
       "<table border=\"1\" class=\"dataframe\">\n",
       "  <thead>\n",
       "    <tr style=\"text-align: right;\">\n",
       "      <th></th>\n",
       "      <th>filename</th>\n",
       "      <th>image_id</th>\n",
       "    </tr>\n",
       "  </thead>\n",
       "  <tbody>\n",
       "    <tr>\n",
       "      <th>0</th>\n",
       "      <td>cherry-tree-leaves-and-fruits.jpg</td>\n",
       "      <td>0</td>\n",
       "    </tr>\n",
       "    <tr>\n",
       "      <th>1</th>\n",
       "      <td>peach-and-leaf-stock-image-2809275.jpg</td>\n",
       "      <td>1</td>\n",
       "    </tr>\n",
       "    <tr>\n",
       "      <th>2</th>\n",
       "      <td>foodjuly2011+026.jpg</td>\n",
       "      <td>2</td>\n",
       "    </tr>\n",
       "    <tr>\n",
       "      <th>3</th>\n",
       "      <td>NCLB.jpg</td>\n",
       "      <td>3</td>\n",
       "    </tr>\n",
       "    <tr>\n",
       "      <th>4</th>\n",
       "      <td>applerust-500x383.jpg</td>\n",
       "      <td>4</td>\n",
       "    </tr>\n",
       "  </tbody>\n",
       "</table>\n",
       "</div>"
      ],
      "text/plain": [
       "                                 filename  image_id\n",
       "0       cherry-tree-leaves-and-fruits.jpg         0\n",
       "1  peach-and-leaf-stock-image-2809275.jpg         1\n",
       "2                    foodjuly2011+026.jpg         2\n",
       "3                                NCLB.jpg         3\n",
       "4                   applerust-500x383.jpg         4"
      ]
     },
     "execution_count": 30,
     "metadata": {},
     "output_type": "execute_result"
    }
   ],
   "source": [
    "new_df.head()"
   ]
  },
  {
   "cell_type": "code",
   "execution_count": 31,
   "id": "6c2fd712-5287-48e9-9866-a38fb4926436",
   "metadata": {
    "tags": []
   },
   "outputs": [],
   "source": [
    "train_labels_df = train_labels_df.merge(new_df, on=\"filename\")"
   ]
  },
  {
   "cell_type": "code",
   "execution_count": 32,
   "id": "eeeb4ab4-6fd9-4a02-829f-fd11e0019ff5",
   "metadata": {
    "tags": []
   },
   "outputs": [],
   "source": [
    "# \"id\" to be added to dictionnaries in \"images\" list in final JSON file: \n",
    "train_labels_df[\"id\"] = train_labels_df[\"image_id\"]\n",
    "\n",
    "# \"image_id\" is to be added to dictionnaries in \"annotations\" list in final JSON file"
   ]
  },
  {
   "cell_type": "code",
   "execution_count": 33,
   "id": "0cabdf58-30be-49df-a8e6-fdea98423672",
   "metadata": {
    "tags": []
   },
   "outputs": [
    {
     "data": {
      "text/html": [
       "<div>\n",
       "<style scoped>\n",
       "    .dataframe tbody tr th:only-of-type {\n",
       "        vertical-align: middle;\n",
       "    }\n",
       "\n",
       "    .dataframe tbody tr th {\n",
       "        vertical-align: top;\n",
       "    }\n",
       "\n",
       "    .dataframe thead th {\n",
       "        text-align: right;\n",
       "    }\n",
       "</style>\n",
       "<table border=\"1\" class=\"dataframe\">\n",
       "  <thead>\n",
       "    <tr style=\"text-align: right;\">\n",
       "      <th></th>\n",
       "      <th>filename</th>\n",
       "      <th>width</th>\n",
       "      <th>height</th>\n",
       "      <th>class</th>\n",
       "      <th>xmin</th>\n",
       "      <th>ymin</th>\n",
       "      <th>xmax</th>\n",
       "      <th>ymax</th>\n",
       "      <th>image_id</th>\n",
       "      <th>id</th>\n",
       "    </tr>\n",
       "  </thead>\n",
       "  <tbody>\n",
       "    <tr>\n",
       "      <th>0</th>\n",
       "      <td>cherry-tree-leaves-and-fruits.jpg</td>\n",
       "      <td>350</td>\n",
       "      <td>300</td>\n",
       "      <td>Cherry leaf</td>\n",
       "      <td>198</td>\n",
       "      <td>77</td>\n",
       "      <td>299</td>\n",
       "      <td>252</td>\n",
       "      <td>0</td>\n",
       "      <td>0</td>\n",
       "    </tr>\n",
       "    <tr>\n",
       "      <th>1</th>\n",
       "      <td>cherry-tree-leaves-and-fruits.jpg</td>\n",
       "      <td>350</td>\n",
       "      <td>300</td>\n",
       "      <td>Cherry leaf</td>\n",
       "      <td>3</td>\n",
       "      <td>114</td>\n",
       "      <td>148</td>\n",
       "      <td>235</td>\n",
       "      <td>0</td>\n",
       "      <td>0</td>\n",
       "    </tr>\n",
       "    <tr>\n",
       "      <th>2</th>\n",
       "      <td>cherry-tree-leaves-and-fruits.jpg</td>\n",
       "      <td>350</td>\n",
       "      <td>300</td>\n",
       "      <td>Cherry leaf</td>\n",
       "      <td>30</td>\n",
       "      <td>184</td>\n",
       "      <td>189</td>\n",
       "      <td>297</td>\n",
       "      <td>0</td>\n",
       "      <td>0</td>\n",
       "    </tr>\n",
       "    <tr>\n",
       "      <th>3</th>\n",
       "      <td>cherry-tree-leaves-and-fruits.jpg</td>\n",
       "      <td>350</td>\n",
       "      <td>300</td>\n",
       "      <td>Cherry leaf</td>\n",
       "      <td>226</td>\n",
       "      <td>4</td>\n",
       "      <td>346</td>\n",
       "      <td>83</td>\n",
       "      <td>0</td>\n",
       "      <td>0</td>\n",
       "    </tr>\n",
       "    <tr>\n",
       "      <th>4</th>\n",
       "      <td>peach-and-leaf-stock-image-2809275.jpg</td>\n",
       "      <td>1300</td>\n",
       "      <td>1099</td>\n",
       "      <td>Peach leaf</td>\n",
       "      <td>237</td>\n",
       "      <td>479</td>\n",
       "      <td>527</td>\n",
       "      <td>810</td>\n",
       "      <td>1</td>\n",
       "      <td>1</td>\n",
       "    </tr>\n",
       "  </tbody>\n",
       "</table>\n",
       "</div>"
      ],
      "text/plain": [
       "                                 filename  width  height        class  xmin  \\\n",
       "0       cherry-tree-leaves-and-fruits.jpg    350     300  Cherry leaf   198   \n",
       "1       cherry-tree-leaves-and-fruits.jpg    350     300  Cherry leaf     3   \n",
       "2       cherry-tree-leaves-and-fruits.jpg    350     300  Cherry leaf    30   \n",
       "3       cherry-tree-leaves-and-fruits.jpg    350     300  Cherry leaf   226   \n",
       "4  peach-and-leaf-stock-image-2809275.jpg   1300    1099   Peach leaf   237   \n",
       "\n",
       "   ymin  xmax  ymax  image_id  id  \n",
       "0    77   299   252         0   0  \n",
       "1   114   148   235         0   0  \n",
       "2   184   189   297         0   0  \n",
       "3     4   346    83         0   0  \n",
       "4   479   527   810         1   1  "
      ]
     },
     "execution_count": 33,
     "metadata": {},
     "output_type": "execute_result"
    }
   ],
   "source": [
    "train_labels_df.head()"
   ]
  },
  {
   "cell_type": "markdown",
   "id": "c6f0d032-8ba1-49f3-b97a-48eea3c982e3",
   "metadata": {},
   "source": [
    "### Renaming columns to fit Tensorflow requirments :"
   ]
  },
  {
   "cell_type": "code",
   "execution_count": 34,
   "id": "2cfead6b-4e56-45e2-877c-b7a8d9e99732",
   "metadata": {
    "tags": []
   },
   "outputs": [
    {
     "data": {
      "text/html": [
       "<div>\n",
       "<style scoped>\n",
       "    .dataframe tbody tr th:only-of-type {\n",
       "        vertical-align: middle;\n",
       "    }\n",
       "\n",
       "    .dataframe tbody tr th {\n",
       "        vertical-align: top;\n",
       "    }\n",
       "\n",
       "    .dataframe thead th {\n",
       "        text-align: right;\n",
       "    }\n",
       "</style>\n",
       "<table border=\"1\" class=\"dataframe\">\n",
       "  <thead>\n",
       "    <tr style=\"text-align: right;\">\n",
       "      <th></th>\n",
       "      <th>file_name</th>\n",
       "      <th>width</th>\n",
       "      <th>height</th>\n",
       "      <th>category_id</th>\n",
       "      <th>xmin</th>\n",
       "      <th>ymin</th>\n",
       "      <th>xmax</th>\n",
       "      <th>ymax</th>\n",
       "      <th>image_id</th>\n",
       "      <th>id</th>\n",
       "    </tr>\n",
       "  </thead>\n",
       "  <tbody>\n",
       "    <tr>\n",
       "      <th>0</th>\n",
       "      <td>cherry-tree-leaves-and-fruits.jpg</td>\n",
       "      <td>350</td>\n",
       "      <td>300</td>\n",
       "      <td>Cherry leaf</td>\n",
       "      <td>198</td>\n",
       "      <td>77</td>\n",
       "      <td>299</td>\n",
       "      <td>252</td>\n",
       "      <td>0</td>\n",
       "      <td>0</td>\n",
       "    </tr>\n",
       "    <tr>\n",
       "      <th>1</th>\n",
       "      <td>cherry-tree-leaves-and-fruits.jpg</td>\n",
       "      <td>350</td>\n",
       "      <td>300</td>\n",
       "      <td>Cherry leaf</td>\n",
       "      <td>3</td>\n",
       "      <td>114</td>\n",
       "      <td>148</td>\n",
       "      <td>235</td>\n",
       "      <td>0</td>\n",
       "      <td>0</td>\n",
       "    </tr>\n",
       "    <tr>\n",
       "      <th>2</th>\n",
       "      <td>cherry-tree-leaves-and-fruits.jpg</td>\n",
       "      <td>350</td>\n",
       "      <td>300</td>\n",
       "      <td>Cherry leaf</td>\n",
       "      <td>30</td>\n",
       "      <td>184</td>\n",
       "      <td>189</td>\n",
       "      <td>297</td>\n",
       "      <td>0</td>\n",
       "      <td>0</td>\n",
       "    </tr>\n",
       "    <tr>\n",
       "      <th>3</th>\n",
       "      <td>cherry-tree-leaves-and-fruits.jpg</td>\n",
       "      <td>350</td>\n",
       "      <td>300</td>\n",
       "      <td>Cherry leaf</td>\n",
       "      <td>226</td>\n",
       "      <td>4</td>\n",
       "      <td>346</td>\n",
       "      <td>83</td>\n",
       "      <td>0</td>\n",
       "      <td>0</td>\n",
       "    </tr>\n",
       "    <tr>\n",
       "      <th>4</th>\n",
       "      <td>peach-and-leaf-stock-image-2809275.jpg</td>\n",
       "      <td>1300</td>\n",
       "      <td>1099</td>\n",
       "      <td>Peach leaf</td>\n",
       "      <td>237</td>\n",
       "      <td>479</td>\n",
       "      <td>527</td>\n",
       "      <td>810</td>\n",
       "      <td>1</td>\n",
       "      <td>1</td>\n",
       "    </tr>\n",
       "  </tbody>\n",
       "</table>\n",
       "</div>"
      ],
      "text/plain": [
       "                                file_name  width  height  category_id  xmin  \\\n",
       "0       cherry-tree-leaves-and-fruits.jpg    350     300  Cherry leaf   198   \n",
       "1       cherry-tree-leaves-and-fruits.jpg    350     300  Cherry leaf     3   \n",
       "2       cherry-tree-leaves-and-fruits.jpg    350     300  Cherry leaf    30   \n",
       "3       cherry-tree-leaves-and-fruits.jpg    350     300  Cherry leaf   226   \n",
       "4  peach-and-leaf-stock-image-2809275.jpg   1300    1099   Peach leaf   237   \n",
       "\n",
       "   ymin  xmax  ymax  image_id  id  \n",
       "0    77   299   252         0   0  \n",
       "1   114   148   235         0   0  \n",
       "2   184   189   297         0   0  \n",
       "3     4   346    83         0   0  \n",
       "4   479   527   810         1   1  "
      ]
     },
     "execution_count": 34,
     "metadata": {},
     "output_type": "execute_result"
    }
   ],
   "source": [
    "train_labels_df = train_labels_df.rename(columns={\"filename\": \"file_name\", \"class\": \"category_id\"})\n",
    "train_labels_df.head()"
   ]
  },
  {
   "cell_type": "markdown",
   "id": "0b42202e-fb08-4f2f-9413-6922dc25d35f",
   "metadata": {},
   "source": [
    "### Adding bounding box column : "
   ]
  },
  {
   "cell_type": "code",
   "execution_count": 35,
   "id": "0c2d7ef2-da62-4111-9fb1-682bff54621c",
   "metadata": {
    "tags": []
   },
   "outputs": [],
   "source": [
    "# adding \"bbox\" column as follows: \"bbox\": [xmin, ymin, xmax, ymax]\n",
    "train_labels_df[\"bbox\"] = train_labels_df[[\"xmin\",\"ymin\",\"xmax\",\"ymax\"]].values.tolist()"
   ]
  },
  {
   "cell_type": "markdown",
   "id": "e8f98e2b-306a-46d5-a87f-dea159ef1365",
   "metadata": {},
   "source": [
    "### Preparing the json output : "
   ]
  },
  {
   "cell_type": "code",
   "execution_count": 36,
   "id": "4e923b8d-0c12-4af8-b713-b0a039b81a42",
   "metadata": {
    "tags": []
   },
   "outputs": [],
   "source": [
    "json_format = {}\n",
    "# consists of two lists : \"images\" and \"annotations\""
   ]
  },
  {
   "cell_type": "code",
   "execution_count": 37,
   "id": "a59491e3-33af-41b2-af65-8262fefb98ca",
   "metadata": {
    "tags": []
   },
   "outputs": [],
   "source": [
    "# 1. slice the dataframe \n",
    "# 2. drop duplicate lines \n",
    "# 3. transform to dictionnary, oriented \"records\" meaning a list of dictionnaries \n",
    "json_format[\"images\"] = train_labels_df[[\"file_name\", \"width\", \"height\", \"id\"]].drop_duplicates().to_dict(orient=\"records\")"
   ]
  },
  {
   "cell_type": "code",
   "execution_count": 38,
   "id": "613e8ce0-3286-4a6a-be62-f8b76a03215b",
   "metadata": {
    "tags": []
   },
   "outputs": [],
   "source": [
    "json_format[\"annotations\"] = train_labels_df[[\"image_id\", \"bbox\", \"category_id\"]].to_dict(orient=\"records\")"
   ]
  },
  {
   "cell_type": "code",
   "execution_count": 39,
   "id": "d832a1f1-5fec-47f8-a2af-df980a1707e5",
   "metadata": {
    "tags": []
   },
   "outputs": [
    {
     "data": {
      "text/plain": [
       "dict_keys(['images', 'annotations'])"
      ]
     },
     "execution_count": 39,
     "metadata": {},
     "output_type": "execute_result"
    }
   ],
   "source": [
    "json_format.keys()"
   ]
  },
  {
   "cell_type": "code",
   "execution_count": 40,
   "id": "2aecc758-af2e-4c67-85d0-38cda1187332",
   "metadata": {
    "tags": []
   },
   "outputs": [
    {
     "data": {
      "text/plain": [
       "dict_keys(['file_name', 'width', 'height', 'id'])"
      ]
     },
     "execution_count": 40,
     "metadata": {},
     "output_type": "execute_result"
    }
   ],
   "source": [
    "json_format[\"images\"][0].keys()"
   ]
  },
  {
   "cell_type": "code",
   "execution_count": 41,
   "id": "2b8df31d-8834-43f2-aa11-a631b911d114",
   "metadata": {
    "tags": []
   },
   "outputs": [
    {
     "data": {
      "text/plain": [
       "dict_keys(['image_id', 'bbox', 'category_id'])"
      ]
     },
     "execution_count": 41,
     "metadata": {},
     "output_type": "execute_result"
    }
   ],
   "source": [
    "json_format[\"annotations\"][0].keys()"
   ]
  },
  {
   "cell_type": "markdown",
   "id": "5e04477e-1e72-4978-a641-14d680e1dc86",
   "metadata": {},
   "source": [
    "### Creating the annotations.json file : "
   ]
  },
  {
   "cell_type": "code",
   "execution_count": 42,
   "id": "751fa7d3-969b-4dc6-a2e6-5e82a886457c",
   "metadata": {
    "tags": []
   },
   "outputs": [],
   "source": [
    "import json"
   ]
  },
  {
   "cell_type": "code",
   "execution_count": 43,
   "id": "05ecb1e7-9625-42f3-aa4c-95a90203d78b",
   "metadata": {
    "tags": []
   },
   "outputs": [],
   "source": [
    "with open(\"annotations.json\", \"w\") as json_data_file:\n",
    "    json.dump(json_format, json_data_file)"
   ]
  },
  {
   "cell_type": "code",
   "execution_count": 44,
   "id": "457e17c8-5e71-45de-bc78-9d56ba1432c0",
   "metadata": {
    "tags": []
   },
   "outputs": [
    {
     "data": {
      "text/plain": [
       "'/root/data transformation'"
      ]
     },
     "execution_count": 44,
     "metadata": {},
     "output_type": "execute_result"
    }
   ],
   "source": [
    " pwd"
   ]
  },
  {
   "cell_type": "code",
   "execution_count": 45,
   "id": "00b4ea76-90f0-49d8-b9e6-4dc0fea2f5ad",
   "metadata": {
    "tags": []
   },
   "outputs": [],
   "source": [
    "import json \n",
    "\n",
    "with open (\"annotations.json\") as f :\n",
    "    data = json.load(f)\n",
    "    for item in data['images']: \n",
    "        if item['width'] == 0 & item['height'] == 0:\n",
    "            print(item)"
   ]
  },
  {
   "cell_type": "code",
   "execution_count": 57,
   "id": "7533d235-115c-42e4-a05f-e068fc6ca04e",
   "metadata": {
    "tags": []
   },
   "outputs": [
    {
     "name": "stdout",
     "output_type": "stream",
     "text": [
      "upload: ./annotations.json to s3://plant-disease-detection-datasets/input_directory/annotations.json\n"
     ]
    }
   ],
   "source": [
    "!aws s3 cp \"/root/data transformation/annotations.json\" s3://plant-disease-detection-datasets/input_directory/annotations.json"
   ]
  },
  {
   "cell_type": "code",
   "execution_count": 56,
   "id": "871f751b-dd5e-4d1f-acd6-869e21a2bd59",
   "metadata": {},
   "outputs": [],
   "source": [
    "import os\n",
    "import json\n",
    "import glob \n",
    "\n",
    "source_path = \"/root/PlantDoc-Object-Detection-Dataset/TRAIN\"\n",
    "image_paths= glob.glob(os.path.join(source_path, \"*.jpg\"))\n",
    "\n",
    "def find_missing_images(image_path, annotations_file):\n",
    "    # Load the annotations file\n",
    "    with open(annotations_file, 'r') as file:\n",
    "        annotations_data = json.load(file)\n",
    "    \n",
    "    # Extract the filenames from the annotations file\n",
    "    annotation_filenames = [entry['file_name'] for entry in annotations_data['images']]\n",
    "    \n",
    "    # Get the filenames of the images in the specified folder\n",
    "    folder_filenames = [filename for filename in os.listdir(image_path) if filename.endswith('.jpg') or filename.endswith('.png')]\n",
    "    \n",
    "    # Find the missing images\n",
    "    missing_images = set(folder_filenames) - set(annotation_filenames)\n",
    "    \n",
    "    return missing_images\n",
    "\n",
    "\n",
    "annotations_file_path = r\"/root/data transformation/annotations.json\"  # Specify the path to the annotations file\n",
    "\n",
    "missing_images = find_missing_images(source_path, annotations_file_path)\n"
   ]
  },
  {
   "cell_type": "code",
   "execution_count": 55,
   "id": "011b657a-b2f5-4884-96e1-c7b5a5e67cc4",
   "metadata": {
    "tags": []
   },
   "outputs": [
    {
     "data": {
      "text/plain": [
       "{'270412tglr-wild-strawberry-flowers-and-leaf-patch.jpg',\n",
       " '2f73110f80014a25a53f9551c94bf164.png.jpg',\n",
       " 'Black+Raspberry+Leaves+3.jpg',\n",
       " 'Downy%20mildew.JPG.jpg',\n",
       " 'Early-blight-example.ashx?mw=250.jpg',\n",
       " 'Hydrangea+%2527Claudie%2527%252C+Powdery+Mildew.JPG.jpg',\n",
       " 'SouthernRustLeaf.png.jpg',\n",
       " 'Tomato%20physiologic%20leaf%20roll1F.JPG.jpg',\n",
       " 'ac-0018.pdf-2_2.jpg',\n",
       " 'aquilegia-powdery-mildew-erysiphe-aquilegiae-on-columbine-leaves-bga5xr.jpg',\n",
       " 'early-blight-1-la_potatoleaf.jpg',\n",
       " 'pm1_600px.jpg',\n",
       " 'powdery-mildew-erysiphe-plantani-on-young-sycamore-leaf-b372wn.jpg',\n",
       " 'ppth-friskop-1-corn-rust.png.jpg',\n",
       " 'raspberries.jpg',\n",
       " 'raspberry-db.jpg',\n",
       " 'southernrust1.png.jpg',\n",
       " 'tdisease_1.jpg',\n",
       " 'tomato_D4a-TobRingspotVirus-1000077_zoom.jpg'}"
      ]
     },
     "execution_count": 55,
     "metadata": {},
     "output_type": "execute_result"
    }
   ],
   "source": [
    "missing_images"
   ]
  },
  {
   "cell_type": "code",
   "execution_count": null,
   "id": "e32a7c06-fd66-4598-b4f6-ecbbf7c4f33f",
   "metadata": {},
   "outputs": [],
   "source": []
  }
 ],
 "metadata": {
  "availableInstances": [
   {
    "_defaultOrder": 0,
    "_isFastLaunch": true,
    "category": "General purpose",
    "gpuNum": 0,
    "hideHardwareSpecs": false,
    "memoryGiB": 4,
    "name": "ml.t3.medium",
    "vcpuNum": 2
   },
   {
    "_defaultOrder": 1,
    "_isFastLaunch": false,
    "category": "General purpose",
    "gpuNum": 0,
    "hideHardwareSpecs": false,
    "memoryGiB": 8,
    "name": "ml.t3.large",
    "vcpuNum": 2
   },
   {
    "_defaultOrder": 2,
    "_isFastLaunch": false,
    "category": "General purpose",
    "gpuNum": 0,
    "hideHardwareSpecs": false,
    "memoryGiB": 16,
    "name": "ml.t3.xlarge",
    "vcpuNum": 4
   },
   {
    "_defaultOrder": 3,
    "_isFastLaunch": false,
    "category": "General purpose",
    "gpuNum": 0,
    "hideHardwareSpecs": false,
    "memoryGiB": 32,
    "name": "ml.t3.2xlarge",
    "vcpuNum": 8
   },
   {
    "_defaultOrder": 4,
    "_isFastLaunch": true,
    "category": "General purpose",
    "gpuNum": 0,
    "hideHardwareSpecs": false,
    "memoryGiB": 8,
    "name": "ml.m5.large",
    "vcpuNum": 2
   },
   {
    "_defaultOrder": 5,
    "_isFastLaunch": false,
    "category": "General purpose",
    "gpuNum": 0,
    "hideHardwareSpecs": false,
    "memoryGiB": 16,
    "name": "ml.m5.xlarge",
    "vcpuNum": 4
   },
   {
    "_defaultOrder": 6,
    "_isFastLaunch": false,
    "category": "General purpose",
    "gpuNum": 0,
    "hideHardwareSpecs": false,
    "memoryGiB": 32,
    "name": "ml.m5.2xlarge",
    "vcpuNum": 8
   },
   {
    "_defaultOrder": 7,
    "_isFastLaunch": false,
    "category": "General purpose",
    "gpuNum": 0,
    "hideHardwareSpecs": false,
    "memoryGiB": 64,
    "name": "ml.m5.4xlarge",
    "vcpuNum": 16
   },
   {
    "_defaultOrder": 8,
    "_isFastLaunch": false,
    "category": "General purpose",
    "gpuNum": 0,
    "hideHardwareSpecs": false,
    "memoryGiB": 128,
    "name": "ml.m5.8xlarge",
    "vcpuNum": 32
   },
   {
    "_defaultOrder": 9,
    "_isFastLaunch": false,
    "category": "General purpose",
    "gpuNum": 0,
    "hideHardwareSpecs": false,
    "memoryGiB": 192,
    "name": "ml.m5.12xlarge",
    "vcpuNum": 48
   },
   {
    "_defaultOrder": 10,
    "_isFastLaunch": false,
    "category": "General purpose",
    "gpuNum": 0,
    "hideHardwareSpecs": false,
    "memoryGiB": 256,
    "name": "ml.m5.16xlarge",
    "vcpuNum": 64
   },
   {
    "_defaultOrder": 11,
    "_isFastLaunch": false,
    "category": "General purpose",
    "gpuNum": 0,
    "hideHardwareSpecs": false,
    "memoryGiB": 384,
    "name": "ml.m5.24xlarge",
    "vcpuNum": 96
   },
   {
    "_defaultOrder": 12,
    "_isFastLaunch": false,
    "category": "General purpose",
    "gpuNum": 0,
    "hideHardwareSpecs": false,
    "memoryGiB": 8,
    "name": "ml.m5d.large",
    "vcpuNum": 2
   },
   {
    "_defaultOrder": 13,
    "_isFastLaunch": false,
    "category": "General purpose",
    "gpuNum": 0,
    "hideHardwareSpecs": false,
    "memoryGiB": 16,
    "name": "ml.m5d.xlarge",
    "vcpuNum": 4
   },
   {
    "_defaultOrder": 14,
    "_isFastLaunch": false,
    "category": "General purpose",
    "gpuNum": 0,
    "hideHardwareSpecs": false,
    "memoryGiB": 32,
    "name": "ml.m5d.2xlarge",
    "vcpuNum": 8
   },
   {
    "_defaultOrder": 15,
    "_isFastLaunch": false,
    "category": "General purpose",
    "gpuNum": 0,
    "hideHardwareSpecs": false,
    "memoryGiB": 64,
    "name": "ml.m5d.4xlarge",
    "vcpuNum": 16
   },
   {
    "_defaultOrder": 16,
    "_isFastLaunch": false,
    "category": "General purpose",
    "gpuNum": 0,
    "hideHardwareSpecs": false,
    "memoryGiB": 128,
    "name": "ml.m5d.8xlarge",
    "vcpuNum": 32
   },
   {
    "_defaultOrder": 17,
    "_isFastLaunch": false,
    "category": "General purpose",
    "gpuNum": 0,
    "hideHardwareSpecs": false,
    "memoryGiB": 192,
    "name": "ml.m5d.12xlarge",
    "vcpuNum": 48
   },
   {
    "_defaultOrder": 18,
    "_isFastLaunch": false,
    "category": "General purpose",
    "gpuNum": 0,
    "hideHardwareSpecs": false,
    "memoryGiB": 256,
    "name": "ml.m5d.16xlarge",
    "vcpuNum": 64
   },
   {
    "_defaultOrder": 19,
    "_isFastLaunch": false,
    "category": "General purpose",
    "gpuNum": 0,
    "hideHardwareSpecs": false,
    "memoryGiB": 384,
    "name": "ml.m5d.24xlarge",
    "vcpuNum": 96
   },
   {
    "_defaultOrder": 20,
    "_isFastLaunch": false,
    "category": "General purpose",
    "gpuNum": 0,
    "hideHardwareSpecs": true,
    "memoryGiB": 0,
    "name": "ml.geospatial.interactive",
    "supportedImageNames": [
     "sagemaker-geospatial-v1-0"
    ],
    "vcpuNum": 0
   },
   {
    "_defaultOrder": 21,
    "_isFastLaunch": true,
    "category": "Compute optimized",
    "gpuNum": 0,
    "hideHardwareSpecs": false,
    "memoryGiB": 4,
    "name": "ml.c5.large",
    "vcpuNum": 2
   },
   {
    "_defaultOrder": 22,
    "_isFastLaunch": false,
    "category": "Compute optimized",
    "gpuNum": 0,
    "hideHardwareSpecs": false,
    "memoryGiB": 8,
    "name": "ml.c5.xlarge",
    "vcpuNum": 4
   },
   {
    "_defaultOrder": 23,
    "_isFastLaunch": false,
    "category": "Compute optimized",
    "gpuNum": 0,
    "hideHardwareSpecs": false,
    "memoryGiB": 16,
    "name": "ml.c5.2xlarge",
    "vcpuNum": 8
   },
   {
    "_defaultOrder": 24,
    "_isFastLaunch": false,
    "category": "Compute optimized",
    "gpuNum": 0,
    "hideHardwareSpecs": false,
    "memoryGiB": 32,
    "name": "ml.c5.4xlarge",
    "vcpuNum": 16
   },
   {
    "_defaultOrder": 25,
    "_isFastLaunch": false,
    "category": "Compute optimized",
    "gpuNum": 0,
    "hideHardwareSpecs": false,
    "memoryGiB": 72,
    "name": "ml.c5.9xlarge",
    "vcpuNum": 36
   },
   {
    "_defaultOrder": 26,
    "_isFastLaunch": false,
    "category": "Compute optimized",
    "gpuNum": 0,
    "hideHardwareSpecs": false,
    "memoryGiB": 96,
    "name": "ml.c5.12xlarge",
    "vcpuNum": 48
   },
   {
    "_defaultOrder": 27,
    "_isFastLaunch": false,
    "category": "Compute optimized",
    "gpuNum": 0,
    "hideHardwareSpecs": false,
    "memoryGiB": 144,
    "name": "ml.c5.18xlarge",
    "vcpuNum": 72
   },
   {
    "_defaultOrder": 28,
    "_isFastLaunch": false,
    "category": "Compute optimized",
    "gpuNum": 0,
    "hideHardwareSpecs": false,
    "memoryGiB": 192,
    "name": "ml.c5.24xlarge",
    "vcpuNum": 96
   },
   {
    "_defaultOrder": 29,
    "_isFastLaunch": true,
    "category": "Accelerated computing",
    "gpuNum": 1,
    "hideHardwareSpecs": false,
    "memoryGiB": 16,
    "name": "ml.g4dn.xlarge",
    "vcpuNum": 4
   },
   {
    "_defaultOrder": 30,
    "_isFastLaunch": false,
    "category": "Accelerated computing",
    "gpuNum": 1,
    "hideHardwareSpecs": false,
    "memoryGiB": 32,
    "name": "ml.g4dn.2xlarge",
    "vcpuNum": 8
   },
   {
    "_defaultOrder": 31,
    "_isFastLaunch": false,
    "category": "Accelerated computing",
    "gpuNum": 1,
    "hideHardwareSpecs": false,
    "memoryGiB": 64,
    "name": "ml.g4dn.4xlarge",
    "vcpuNum": 16
   },
   {
    "_defaultOrder": 32,
    "_isFastLaunch": false,
    "category": "Accelerated computing",
    "gpuNum": 1,
    "hideHardwareSpecs": false,
    "memoryGiB": 128,
    "name": "ml.g4dn.8xlarge",
    "vcpuNum": 32
   },
   {
    "_defaultOrder": 33,
    "_isFastLaunch": false,
    "category": "Accelerated computing",
    "gpuNum": 4,
    "hideHardwareSpecs": false,
    "memoryGiB": 192,
    "name": "ml.g4dn.12xlarge",
    "vcpuNum": 48
   },
   {
    "_defaultOrder": 34,
    "_isFastLaunch": false,
    "category": "Accelerated computing",
    "gpuNum": 1,
    "hideHardwareSpecs": false,
    "memoryGiB": 256,
    "name": "ml.g4dn.16xlarge",
    "vcpuNum": 64
   },
   {
    "_defaultOrder": 35,
    "_isFastLaunch": false,
    "category": "Accelerated computing",
    "gpuNum": 1,
    "hideHardwareSpecs": false,
    "memoryGiB": 61,
    "name": "ml.p3.2xlarge",
    "vcpuNum": 8
   },
   {
    "_defaultOrder": 36,
    "_isFastLaunch": false,
    "category": "Accelerated computing",
    "gpuNum": 4,
    "hideHardwareSpecs": false,
    "memoryGiB": 244,
    "name": "ml.p3.8xlarge",
    "vcpuNum": 32
   },
   {
    "_defaultOrder": 37,
    "_isFastLaunch": false,
    "category": "Accelerated computing",
    "gpuNum": 8,
    "hideHardwareSpecs": false,
    "memoryGiB": 488,
    "name": "ml.p3.16xlarge",
    "vcpuNum": 64
   },
   {
    "_defaultOrder": 38,
    "_isFastLaunch": false,
    "category": "Accelerated computing",
    "gpuNum": 8,
    "hideHardwareSpecs": false,
    "memoryGiB": 768,
    "name": "ml.p3dn.24xlarge",
    "vcpuNum": 96
   },
   {
    "_defaultOrder": 39,
    "_isFastLaunch": false,
    "category": "Memory Optimized",
    "gpuNum": 0,
    "hideHardwareSpecs": false,
    "memoryGiB": 16,
    "name": "ml.r5.large",
    "vcpuNum": 2
   },
   {
    "_defaultOrder": 40,
    "_isFastLaunch": false,
    "category": "Memory Optimized",
    "gpuNum": 0,
    "hideHardwareSpecs": false,
    "memoryGiB": 32,
    "name": "ml.r5.xlarge",
    "vcpuNum": 4
   },
   {
    "_defaultOrder": 41,
    "_isFastLaunch": false,
    "category": "Memory Optimized",
    "gpuNum": 0,
    "hideHardwareSpecs": false,
    "memoryGiB": 64,
    "name": "ml.r5.2xlarge",
    "vcpuNum": 8
   },
   {
    "_defaultOrder": 42,
    "_isFastLaunch": false,
    "category": "Memory Optimized",
    "gpuNum": 0,
    "hideHardwareSpecs": false,
    "memoryGiB": 128,
    "name": "ml.r5.4xlarge",
    "vcpuNum": 16
   },
   {
    "_defaultOrder": 43,
    "_isFastLaunch": false,
    "category": "Memory Optimized",
    "gpuNum": 0,
    "hideHardwareSpecs": false,
    "memoryGiB": 256,
    "name": "ml.r5.8xlarge",
    "vcpuNum": 32
   },
   {
    "_defaultOrder": 44,
    "_isFastLaunch": false,
    "category": "Memory Optimized",
    "gpuNum": 0,
    "hideHardwareSpecs": false,
    "memoryGiB": 384,
    "name": "ml.r5.12xlarge",
    "vcpuNum": 48
   },
   {
    "_defaultOrder": 45,
    "_isFastLaunch": false,
    "category": "Memory Optimized",
    "gpuNum": 0,
    "hideHardwareSpecs": false,
    "memoryGiB": 512,
    "name": "ml.r5.16xlarge",
    "vcpuNum": 64
   },
   {
    "_defaultOrder": 46,
    "_isFastLaunch": false,
    "category": "Memory Optimized",
    "gpuNum": 0,
    "hideHardwareSpecs": false,
    "memoryGiB": 768,
    "name": "ml.r5.24xlarge",
    "vcpuNum": 96
   },
   {
    "_defaultOrder": 47,
    "_isFastLaunch": false,
    "category": "Accelerated computing",
    "gpuNum": 1,
    "hideHardwareSpecs": false,
    "memoryGiB": 16,
    "name": "ml.g5.xlarge",
    "vcpuNum": 4
   },
   {
    "_defaultOrder": 48,
    "_isFastLaunch": false,
    "category": "Accelerated computing",
    "gpuNum": 1,
    "hideHardwareSpecs": false,
    "memoryGiB": 32,
    "name": "ml.g5.2xlarge",
    "vcpuNum": 8
   },
   {
    "_defaultOrder": 49,
    "_isFastLaunch": false,
    "category": "Accelerated computing",
    "gpuNum": 1,
    "hideHardwareSpecs": false,
    "memoryGiB": 64,
    "name": "ml.g5.4xlarge",
    "vcpuNum": 16
   },
   {
    "_defaultOrder": 50,
    "_isFastLaunch": false,
    "category": "Accelerated computing",
    "gpuNum": 1,
    "hideHardwareSpecs": false,
    "memoryGiB": 128,
    "name": "ml.g5.8xlarge",
    "vcpuNum": 32
   },
   {
    "_defaultOrder": 51,
    "_isFastLaunch": false,
    "category": "Accelerated computing",
    "gpuNum": 1,
    "hideHardwareSpecs": false,
    "memoryGiB": 256,
    "name": "ml.g5.16xlarge",
    "vcpuNum": 64
   },
   {
    "_defaultOrder": 52,
    "_isFastLaunch": false,
    "category": "Accelerated computing",
    "gpuNum": 4,
    "hideHardwareSpecs": false,
    "memoryGiB": 192,
    "name": "ml.g5.12xlarge",
    "vcpuNum": 48
   },
   {
    "_defaultOrder": 53,
    "_isFastLaunch": false,
    "category": "Accelerated computing",
    "gpuNum": 4,
    "hideHardwareSpecs": false,
    "memoryGiB": 384,
    "name": "ml.g5.24xlarge",
    "vcpuNum": 96
   },
   {
    "_defaultOrder": 54,
    "_isFastLaunch": false,
    "category": "Accelerated computing",
    "gpuNum": 8,
    "hideHardwareSpecs": false,
    "memoryGiB": 768,
    "name": "ml.g5.48xlarge",
    "vcpuNum": 192
   },
   {
    "_defaultOrder": 55,
    "_isFastLaunch": false,
    "category": "Accelerated computing",
    "gpuNum": 8,
    "hideHardwareSpecs": false,
    "memoryGiB": 1152,
    "name": "ml.p4d.24xlarge",
    "vcpuNum": 96
   },
   {
    "_defaultOrder": 56,
    "_isFastLaunch": false,
    "category": "Accelerated computing",
    "gpuNum": 8,
    "hideHardwareSpecs": false,
    "memoryGiB": 1152,
    "name": "ml.p4de.24xlarge",
    "vcpuNum": 96
   }
  ],
  "instance_type": "ml.t3.medium",
  "kernelspec": {
   "display_name": "Python 3 (Data Science)",
   "language": "python",
   "name": "python3__SAGEMAKER_INTERNAL__arn:aws:sagemaker:us-east-1:081325390199:image/datascience-1.0"
  },
  "language_info": {
   "codemirror_mode": {
    "name": "ipython",
    "version": 3
   },
   "file_extension": ".py",
   "mimetype": "text/x-python",
   "name": "python",
   "nbconvert_exporter": "python",
   "pygments_lexer": "ipython3",
   "version": "3.7.10"
  }
 },
 "nbformat": 4,
 "nbformat_minor": 5
}
