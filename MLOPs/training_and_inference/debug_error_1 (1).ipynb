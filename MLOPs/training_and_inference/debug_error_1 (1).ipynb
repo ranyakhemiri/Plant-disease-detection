{
 "cells": [
  {
   "cell_type": "code",
   "execution_count": 3,
   "id": "a106a55f-174a-44a8-a1b5-162ff729ec9c",
   "metadata": {
    "tags": []
   },
   "outputs": [
    {
     "name": "stderr",
     "output_type": "stream",
     "text": [
      "2023-05-24 12:00:14.202112: I tensorflow/core/platform/cpu_feature_guard.cc:182] This TensorFlow binary is optimized to use available CPU instructions in performance-critical operations.\n",
      "To enable the following instructions: AVX512F, in other operations, rebuild TensorFlow with the appropriate compiler flags.\n"
     ]
    }
   ],
   "source": [
    "import tensorflow as tf \n",
    "import numpy as np\n",
    "from PIL import Image"
   ]
  },
  {
   "cell_type": "code",
   "execution_count": 4,
   "id": "a9218f09-e07c-4136-807c-6a2abdc8d4b9",
   "metadata": {
    "tags": []
   },
   "outputs": [],
   "source": [
    "def load_image_into_numpy_array(path: str) -> np.ndarray:\n",
    "        \"\"\"Load an image from file into a numpy array.\n",
    "\n",
    "        Puts image into numpy array to feed into tensorflow graph.\n",
    "        Note that by convention we put it into a numpy array with shape\n",
    "        (height, width, channels), where channels=3 for RGB.\n",
    "\n",
    "        Args:\n",
    "          path: a file path.\n",
    "\n",
    "        Returns:\n",
    "          uint8 numpy array with shape (img_height, img_width, 3)\n",
    "        \"\"\"\n",
    "        img_data = tf.io.gfile.GFile(path, \"rb\").read()\n",
    "        image = Image.open(BytesIO(img_data))\n",
    "        (im_width, im_height) = image.size\n",
    "        return np.array(image.getdata()).reshape((im_height, im_width, 3)).astype(np.uint8)"
   ]
  },
  {
   "cell_type": "code",
   "execution_count": 5,
   "id": "2a4a64f0-40ea-4713-a5f9-e515cdfce42e",
   "metadata": {
    "tags": []
   },
   "outputs": [],
   "source": [
    "import os \n",
    "import glob\n",
    "\n",
    "source_path = \"datasets/PlantDoc-Object-Detection-Dataset/TRAIN\"\n",
    "image_paths= glob.glob(os.path.join(source_path, \"*.jpg\"), recursive=True)\n",
    "\n",
    " #   path = \n",
    " #   load_image_into_numpy_array(path)"
   ]
  },
  {
   "cell_type": "code",
   "execution_count": 6,
   "id": "b87fbb42-8f60-45c8-99dc-423662314866",
   "metadata": {
    "tags": []
   },
   "outputs": [
    {
     "name": "stdout",
     "output_type": "stream",
     "text": [
      "0\n"
     ]
    }
   ],
   "source": [
    "import cv2\n",
    "\n",
    "count = 0\n",
    "for image_path in image_paths: \n",
    "    image = cv2.imread(image_path)\n",
    "    if image is None :    \n",
    "        count += 1\n",
    "print(count)"
   ]
  },
  {
   "cell_type": "code",
   "execution_count": 7,
   "id": "89ba0832-0281-425b-a954-aaa5b12a93e4",
   "metadata": {
    "tags": []
   },
   "outputs": [],
   "source": [
    "from PIL import Image\n",
    "\n",
    "#for image_path in image_paths: \n",
    "    #image = Image.open(image_path)\n",
    "    #print(image.format)  # Image format (JPEG, PNG, etc.)\n",
    "    #print(image.size)  # Image dimensions (width, height)\n",
    "    #print(image.mode)  # Image mode (RGB, grayscale, etc.)"
   ]
  },
  {
   "cell_type": "markdown",
   "id": "0f8ab698-65ff-4e87-9992-de0ba94ef753",
   "metadata": {},
   "source": [
    "## Compare example training dataset and my custom dataset : Content Length/ image"
   ]
  },
  {
   "cell_type": "markdown",
   "id": "1364548c-e0fb-486b-8868-72e54719f5e8",
   "metadata": {},
   "source": [
    "#### Find the larget image in example dataset"
   ]
  },
  {
   "cell_type": "code",
   "execution_count": 8,
   "id": "fd2e3873-b284-4434-9714-87318b87037b",
   "metadata": {
    "tags": []
   },
   "outputs": [
    {
     "data": {
      "text/plain": [
       "'s3://jumpstart-cache-prod-us-east-1/training-datasets/PennFudanPed_COCO_format/'"
      ]
     },
     "execution_count": 8,
     "metadata": {},
     "output_type": "execute_result"
    }
   ],
   "source": [
    "# Sample training data is available in this bucket\n",
    "import boto3\n",
    "aws_region = boto3.Session().region_name\n",
    "training_data_bucket = f\"jumpstart-cache-prod-{aws_region}\"\n",
    "training_data_prefix = \"training-datasets/PennFudanPed_COCO_format/\"\n",
    "\n",
    "training_dataset_s3_path = f\"s3://{training_data_bucket}/{training_data_prefix}\"\n",
    "training_dataset_s3_path"
   ]
  },
  {
   "cell_type": "code",
   "execution_count": 9,
   "id": "7a26cc07-306a-4efd-81c0-4d5519a8ce73",
   "metadata": {
    "tags": []
   },
   "outputs": [
    {
     "name": "stdout",
     "output_type": "stream",
     "text": [
      "{\n",
      "    \"AcceptRanges\": \"bytes\",\n",
      "    \"LastModified\": \"Mon, 07 Jun 2021 18:43:00 GMT\",\n",
      "    \"ContentLength\": 734786,\n",
      "    \"ETag\": \"\\\"1f6d2759d941c41a99f55669f144bd6f\\\"\",\n",
      "    \"VersionId\": \"ZJLxq_5j5sTSDAtxQJpDVZMkT1Ya9f_5\",\n",
      "    \"ContentType\": \"image/png\",\n",
      "    \"Metadata\": {}\n",
      "}\n"
     ]
    }
   ],
   "source": [
    "! aws s3api head-object --bucket jumpstart-cache-prod-us-east-1 --key training-datasets/PennFudanPed_COCO_format/images/PennPed00022.png"
   ]
  },
  {
   "cell_type": "code",
   "execution_count": 10,
   "id": "7e679d80-bd00-446d-86c2-24daa97b5efc",
   "metadata": {
    "tags": []
   },
   "outputs": [
    {
     "name": "stdout",
     "output_type": "stream",
     "text": [
      "2021-06-07 18:43:00  717.6 KiB training-datasets/PennFudanPed_COCO_format/images/PennPed00022.png\n",
      "2021-06-07 18:42:57  621.6 KiB training-datasets/PennFudanPed_COCO_format/images/PennPed00005.png\n",
      "2021-06-07 18:43:08  607.0 KiB training-datasets/PennFudanPed_COCO_format/images/PennPed00052.png\n",
      "2021-06-07 18:42:45  588.7 KiB training-datasets/PennFudanPed_COCO_format/images/FudanPed00032.png\n",
      "2021-06-07 18:42:56  574.0 KiB training-datasets/PennFudanPed_COCO_format/images/PennPed00004.png\n",
      "2021-06-07 18:43:18  556.5 KiB training-datasets/PennFudanPed_COCO_format/images/PennPed00092.png\n",
      "2021-06-07 18:42:59  535.3 KiB training-datasets/PennFudanPed_COCO_format/images/PennPed00015.png\n",
      "2021-06-07 18:42:46  534.4 KiB training-datasets/PennFudanPed_COCO_format/images/FudanPed00036.png\n",
      "2021-06-07 18:42:49  526.3 KiB training-datasets/PennFudanPed_COCO_format/images/FudanPed00048.png\n",
      "2021-06-07 18:42:58  525.6 KiB training-datasets/PennFudanPed_COCO_format/images/PennPed00010.png\n"
     ]
    }
   ],
   "source": [
    "! aws s3 ls s3://jumpstart-cache-prod-us-east-1/training-datasets/PennFudanPed_COCO_format/ --recursive --human-readable --summarize | grep -i \"image\" | sort -k 3 -nr | head "
   ]
  },
  {
   "cell_type": "markdown",
   "id": "20fd618b-6229-4427-ac60-0b54328d6c75",
   "metadata": {},
   "source": [
    "#### Find largest image in my dataset"
   ]
  },
  {
   "cell_type": "code",
   "execution_count": 11,
   "id": "c9955e6f-88de-4e64-8a41-a9d71197c983",
   "metadata": {},
   "outputs": [
    {
     "name": "stdout",
     "output_type": "stream",
     "text": [
      "2023-05-17 11:44:40 1023.0 KiB input_directory/images/Gray%20Leaf%20SpotCORN039.JPG.jpg\n",
      "2023-05-17 11:48:21 1021.1 KiB input_directory/images/Northern-corn-leaf-blight-NM-F1a.jpg\n",
      "2023-05-17 11:44:16 1016.2 KiB input_directory/images/gardening-moisture-lateblight-tomato-leaf.jpg\n",
      "2023-05-17 11:37:58 1014.7 KiB input_directory/images/apple%20scab%20MF821.JPG.jpg\n",
      "2023-05-17 11:46:12 1014.5 KiB input_directory/images/img_5342.jpg\n",
      "2023-05-17 11:41:54 1012.0 KiB input_directory/images/crabapple%20scab%20Snowdrift%201%20Crab%206-24-16.JPG.jpg\n",
      "2023-05-17 11:49:31 1001.9 KiB input_directory/images/PLPATH-FRU-02-cedar-apple-rust-figure-1.jpg\n",
      "2023-05-17 11:45:03  995.5 KiB input_directory/images/grow-an-apple-tree-from-seed-in-singapore-img5.jpg\n",
      "2023-05-17 11:43:40  990.1 KiB input_directory/images/Fig.%2016_opt.jpg\n",
      "2023-05-17 11:37:54  975.6 KiB input_directory/images/agron10.jpg\n",
      "sort: write failed: 'standard output': Broken pipe\n",
      "sort: write error\n"
     ]
    }
   ],
   "source": [
    "! aws s3 ls s3://plant-disease-detection-datasets/input_directory/images --recursive --human-readable --summarize | grep -i \"image\" | sort -k 3 -nr | head"
   ]
  },
  {
   "cell_type": "code",
   "execution_count": 12,
   "id": "a899a8a7-34c8-450f-8dd1-aeb52960f127",
   "metadata": {
    "tags": []
   },
   "outputs": [
    {
     "name": "stdout",
     "output_type": "stream",
     "text": [
      "{\n",
      "    \"AcceptRanges\": \"bytes\",\n",
      "    \"LastModified\": \"Wed, 17 May 2023 11:44:40 GMT\",\n",
      "    \"ContentLength\": 1047501,\n",
      "    \"ETag\": \"\\\"4ce98fccd6442f6a93760eded670c2d1\\\"\",\n",
      "    \"ContentType\": \"image/jpeg\",\n",
      "    \"ServerSideEncryption\": \"AES256\",\n",
      "    \"Metadata\": {}\n",
      "}\n"
     ]
    }
   ],
   "source": [
    "! aws s3api head-object --bucket plant-disease-detection-datasets --key input_directory/images/Gray%20Leaf%20SpotCORN039.JPG.jpg"
   ]
  },
  {
   "cell_type": "markdown",
   "id": "348c73a7-6b87-4ae9-b4b6-8fda747a0546",
   "metadata": {},
   "source": [
    "### Checking color channels compatibility "
   ]
  },
  {
   "cell_type": "code",
   "execution_count": 13,
   "id": "152f8051-4611-4796-9fd7-a43603276d3e",
   "metadata": {},
   "outputs": [
    {
     "name": "stdout",
     "output_type": "stream",
     "text": [
      "Image format: JPEG\n",
      "Number of color channels: RGB\n"
     ]
    }
   ],
   "source": [
    "image = Image.open(\"datasets/PlantDoc-Object-Detection-Dataset/TRAIN/nclb7x1200.jpg\")\n",
    "# Verify the image format and number of color channels\n",
    "image_format = image.format\n",
    "num_channels = image.mode\n",
    "\n",
    "print(\"Image format:\", image_format)\n",
    "print(\"Number of color channels:\", num_channels)"
   ]
  },
  {
   "cell_type": "markdown",
   "id": "7f4b3e6d-a3f2-450e-94bc-7373b3c5b464",
   "metadata": {},
   "source": [
    "### Checking which images in the dataset are causing the errors "
   ]
  },
  {
   "cell_type": "code",
   "execution_count": 14,
   "id": "0e8626b3-3aed-4ea9-8789-8a80e8bd6635",
   "metadata": {},
   "outputs": [],
   "source": [
    "from io import BytesIO\n",
    "\n",
    "for image_path in image_paths: \n",
    "    try : \n",
    "        load_image_into_numpy_array(image_path)\n",
    "    except :\n",
    "        print(image_path)"
   ]
  },
  {
   "cell_type": "markdown",
   "id": "4b215a37-be89-47b6-b703-c8ae5f0b4f16",
   "metadata": {},
   "source": [
    "### Checking example image properties"
   ]
  },
  {
   "cell_type": "code",
   "execution_count": 22,
   "id": "587c7f58-84a6-4bfb-a7e2-eaf7e3c356f9",
   "metadata": {
    "tags": []
   },
   "outputs": [
    {
     "data": {
      "text/plain": [
       "(767, 454)"
      ]
     },
     "execution_count": 22,
     "metadata": {},
     "output_type": "execute_result"
    }
   ],
   "source": [
    "example_image_path = \"PennPed00005.png\"\n",
    "example_image = Image.open(example_image_path)\n",
    "example_image.size"
   ]
  },
  {
   "cell_type": "code",
   "execution_count": 15,
   "id": "1925f136-1255-4777-bc41-d7c5fc72312e",
   "metadata": {
    "tags": []
   },
   "outputs": [
    {
     "data": {
      "text/plain": [
       "(925, 486)"
      ]
     },
     "execution_count": 15,
     "metadata": {},
     "output_type": "execute_result"
    }
   ],
   "source": [
    "example_image_path = \"PennPed00022.png\"\n",
    "example_image = Image.open(example_image_path)\n",
    "example_image.size"
   ]
  },
  {
   "cell_type": "code",
   "execution_count": 16,
   "id": "43a3765d-fbac-43f6-9ba5-23d72ed7bd34",
   "metadata": {
    "tags": []
   },
   "outputs": [
    {
     "data": {
      "text/plain": [
       "array([[[ 64,  88,  56],\n",
       "        [ 59,  83,  51],\n",
       "        [ 48,  72,  40],\n",
       "        ...,\n",
       "        [ 47,  65,  43],\n",
       "        [ 45,  63,  41],\n",
       "        [ 42,  59,  40]],\n",
       "\n",
       "       [[ 47,  71,  39],\n",
       "        [ 52,  76,  44],\n",
       "        [ 51,  75,  43],\n",
       "        ...,\n",
       "        [ 50,  68,  46],\n",
       "        [ 50,  68,  46],\n",
       "        [ 47,  64,  45]],\n",
       "\n",
       "       [[ 34,  57,  28],\n",
       "        [ 46,  69,  40],\n",
       "        [ 55,  78,  49],\n",
       "        ...,\n",
       "        [ 52,  70,  48],\n",
       "        [ 51,  69,  47],\n",
       "        [ 49,  66,  47]],\n",
       "\n",
       "       ...,\n",
       "\n",
       "       [[ 91, 149,  64],\n",
       "        [ 93, 151,  66],\n",
       "        [ 94, 148,  64],\n",
       "        ...,\n",
       "        [217, 252, 162],\n",
       "        [212, 248, 158],\n",
       "        [210, 244, 157]],\n",
       "\n",
       "       [[ 97, 155,  71],\n",
       "        [ 99, 157,  73],\n",
       "        [ 99, 153,  69],\n",
       "        ...,\n",
       "        [224, 255, 168],\n",
       "        [216, 251, 161],\n",
       "        [211, 244, 157]],\n",
       "\n",
       "       [[ 98, 156,  72],\n",
       "        [102, 160,  76],\n",
       "        [102, 156,  72],\n",
       "        ...,\n",
       "        [225, 255, 169],\n",
       "        [216, 249, 160],\n",
       "        [208, 241, 154]]], dtype=uint8)"
      ]
     },
     "execution_count": 16,
     "metadata": {},
     "output_type": "execute_result"
    }
   ],
   "source": [
    "from io import BytesIO\n",
    "\n",
    "load_image_into_numpy_array(example_image_path)"
   ]
  },
  {
   "cell_type": "markdown",
   "id": "c3b9ea9d-d8f5-4aba-b1b1-325538acc194",
   "metadata": {
    "tags": []
   },
   "source": [
    "## Resizing train dataset "
   ]
  },
  {
   "cell_type": "code",
   "execution_count": 17,
   "id": "66c21bee-cc51-4a62-acdb-8e5c0c2790d6",
   "metadata": {
    "tags": []
   },
   "outputs": [],
   "source": [
    "from PIL import Image\n",
    "import os\n",
    "\n",
    "# Define the directory path containing the JPG images\n",
    "image_dir = \"datasets/PlantDoc-Object-Detection-Dataset/TRAIN\"\n",
    "\n",
    "# Define the target size for resizing\n",
    "target_size = (925, 486)  \n",
    "\n",
    "# Iterate over each image file in the directory\n",
    "for filename in os.listdir(image_dir):\n",
    "    if filename.endswith(\".jpg\"):\n",
    "        # Open the image\n",
    "        image_path = os.path.join(image_dir, filename)\n",
    "        image = Image.open(image_path)\n",
    "\n",
    "        # Resize the image\n",
    "        resized_image = image.resize(target_size)\n",
    "\n",
    "        # Convert the resized image to RGB mode\n",
    "        rgb_image = resized_image.convert(\"RGB\")\n",
    "\n",
    "        # Save the resized image, replacing the original file\n",
    "        rgb_image.save(image_path)"
   ]
  },
  {
   "cell_type": "markdown",
   "id": "41b9de70-7327-4f7f-9b8e-be2cdab9add4",
   "metadata": {},
   "source": [
    "#### Removing \".png\" from each image filename"
   ]
  },
  {
   "cell_type": "code",
   "execution_count": 18,
   "id": "c01db8c2-8902-47bf-afd8-bd8c8c03ecc7",
   "metadata": {
    "tags": []
   },
   "outputs": [],
   "source": [
    "import os\n",
    "\n",
    "# Define the directory path containing the JPG images\n",
    "image_dir = \"datasets/PlantDoc-Object-Detection-Dataset/TRAIN\"\n",
    "\n",
    "# Iterate over each image file in the directory\n",
    "for filename in os.listdir(image_dir):\n",
    "    if filename.endswith(\".jpg\"):\n",
    "        # Check if the filename ends with \".png.jpg\"\n",
    "        if filename.endswith(\".png.jpg\"):\n",
    "            new_filename = filename[:-8] + \".jpg\"  # Remove \".png\" and keep \".jpg\" extension\n",
    "            original_path= os.path.join(image_dir, filename)\n",
    "            new_path = os.path.join(image_dir, new_filename)\n",
    "\n",
    "            # Rename the file\n",
    "            os.rename(original_path, new_path)"
   ]
  },
  {
   "cell_type": "code",
   "execution_count": 19,
   "id": "becb764e-e2ab-42fb-87e7-d0f92507bc26",
   "metadata": {
    "tags": []
   },
   "outputs": [
    {
     "name": "stdout",
     "output_type": "stream",
     "text": [
      "SouthernRustLeaf.png.xml\n"
     ]
    }
   ],
   "source": [
    "! ls datasets/PlantDoc-Object-Detection-Dataset/TRAIN/ |grep SouthernRustLeaf"
   ]
  },
  {
   "cell_type": "markdown",
   "id": "b8897ac3-a199-4117-a391-91e680055698",
   "metadata": {},
   "source": [
    "### Delete invalid images from my dataset "
   ]
  },
  {
   "cell_type": "code",
   "execution_count": 20,
   "id": "cbdfe2c6-4722-4d14-8cd5-aa6ee628e28b",
   "metadata": {
    "tags": []
   },
   "outputs": [],
   "source": [
    "from PIL import Image\n",
    "import os\n",
    "\n",
    "# Define the directory path containing the JPG images\n",
    "image_dir = \"datasets/PlantDoc-Object-Detection-Dataset/TRAIN\"\n",
    "\n",
    "# Iterate over each image file in the directory\n",
    "for filename in os.listdir(image_dir):\n",
    "    if filename.endswith(\".jpg\"):\n",
    "        # Check if the file is a valid image\n",
    "        image_path = os.path.join(image_dir, filename)\n",
    "        try:\n",
    "            Image.open(image_path).verify()\n",
    "        except (IOError, SyntaxError) as e:\n",
    "            print(f\"Deleting file: {filename}. Invalid image file.\")\n",
    "            os.remove(image_path)"
   ]
  },
  {
   "cell_type": "code",
   "execution_count": 21,
   "id": "23d93222-8144-4786-a009-0b7c6fa776c3",
   "metadata": {},
   "outputs": [
    {
     "name": "stdout",
     "output_type": "stream",
     "text": [
      "2023-05-09 09:14:26 amplify-plantdiseasedetectio-staging-91420-deployment\n",
      "2023-04-11 13:00:08 cdk-hnb659fds-assets-334842727856-us-east-1\n",
      "2023-04-11 13:00:10 cdk-hnb659fds-assets-334842727856-us-west-1\n",
      "2023-04-12 13:49:16 cdk-hnb659fds-assets-334842727856-us-west-2\n",
      "2023-04-05 12:48:27 cloudtrail-awslogs-334842727856-uzv0ecgx-isengard-do-not-delete\n",
      "2023-04-06 03:04:33 do-not-delete-gatedgarden-audit-334842727856\n",
      "2023-04-21 15:40:03 lookoutvision-us-east-1-c87eb4d43f\n",
      "2023-04-26 11:50:02 medicalinsuranceprediction\n",
      "2023-05-17 11:10:47 plant-disease-detection-datasets\n",
      "2023-05-09 13:38:52 plant-disease-detection-static-files-staging\n",
      "2023-05-09 15:44:12 plantdiseasedetection-upload-380e72c391420-staging\n",
      "2023-04-24 12:15:13 project1-training\n",
      "2023-04-11 09:22:49 randomname101820\n",
      "2023-05-15 09:22:42 sagemaker-cv-bootcamp-us-east-1-334842727856\n",
      "2023-04-24 12:39:50 sagemaker-eu-west-1-334842727856\n",
      "2023-05-15 09:25:20 sagemaker-studio-334842727856-2il1gh33ywb\n",
      "2023-04-24 12:36:47 sagemaker-studio-334842727856-9ytzmpa1min\n",
      "2023-04-13 09:35:51 sagemaker-studio-334842727856-bj91fup43bu\n",
      "2023-04-24 12:42:39 sagemaker-studio-334842727856-q1gauy38fda\n",
      "2023-04-13 09:38:56 sagemaker-us-east-1-334842727856\n",
      "2023-04-25 11:57:35 salaryprediction\n",
      "2023-04-12 14:52:29 smart-crops-demo-334842727856-us-west-2\n",
      "2023-04-12 14:52:29 smart-crops-demo-334842727856-us-west-2-geotiff\n",
      "2023-04-11 13:28:37 smartcroprepo\n",
      "2023-04-12 14:57:46 smartcropsstack-repossta-processedimagesbucket12e-nna0w9eueljj\n",
      "2023-04-12 14:57:45 smartcropsstack-reposstac-rawimagesbucketf976e802-18kzwxiumoi7a\n",
      "2023-04-11 09:33:49 usingroles108293\n",
      "2023-05-02 19:06:53 weed-detection-training-dataset\n"
     ]
    }
   ],
   "source": [
    "! aws s3 ls "
   ]
  }
 ],
 "metadata": {
  "availableInstances": [
   {
    "_defaultOrder": 0,
    "_isFastLaunch": true,
    "category": "General purpose",
    "gpuNum": 0,
    "hideHardwareSpecs": false,
    "memoryGiB": 4,
    "name": "ml.t3.medium",
    "vcpuNum": 2
   },
   {
    "_defaultOrder": 1,
    "_isFastLaunch": false,
    "category": "General purpose",
    "gpuNum": 0,
    "hideHardwareSpecs": false,
    "memoryGiB": 8,
    "name": "ml.t3.large",
    "vcpuNum": 2
   },
   {
    "_defaultOrder": 2,
    "_isFastLaunch": false,
    "category": "General purpose",
    "gpuNum": 0,
    "hideHardwareSpecs": false,
    "memoryGiB": 16,
    "name": "ml.t3.xlarge",
    "vcpuNum": 4
   },
   {
    "_defaultOrder": 3,
    "_isFastLaunch": false,
    "category": "General purpose",
    "gpuNum": 0,
    "hideHardwareSpecs": false,
    "memoryGiB": 32,
    "name": "ml.t3.2xlarge",
    "vcpuNum": 8
   },
   {
    "_defaultOrder": 4,
    "_isFastLaunch": true,
    "category": "General purpose",
    "gpuNum": 0,
    "hideHardwareSpecs": false,
    "memoryGiB": 8,
    "name": "ml.m5.large",
    "vcpuNum": 2
   },
   {
    "_defaultOrder": 5,
    "_isFastLaunch": false,
    "category": "General purpose",
    "gpuNum": 0,
    "hideHardwareSpecs": false,
    "memoryGiB": 16,
    "name": "ml.m5.xlarge",
    "vcpuNum": 4
   },
   {
    "_defaultOrder": 6,
    "_isFastLaunch": false,
    "category": "General purpose",
    "gpuNum": 0,
    "hideHardwareSpecs": false,
    "memoryGiB": 32,
    "name": "ml.m5.2xlarge",
    "vcpuNum": 8
   },
   {
    "_defaultOrder": 7,
    "_isFastLaunch": false,
    "category": "General purpose",
    "gpuNum": 0,
    "hideHardwareSpecs": false,
    "memoryGiB": 64,
    "name": "ml.m5.4xlarge",
    "vcpuNum": 16
   },
   {
    "_defaultOrder": 8,
    "_isFastLaunch": false,
    "category": "General purpose",
    "gpuNum": 0,
    "hideHardwareSpecs": false,
    "memoryGiB": 128,
    "name": "ml.m5.8xlarge",
    "vcpuNum": 32
   },
   {
    "_defaultOrder": 9,
    "_isFastLaunch": false,
    "category": "General purpose",
    "gpuNum": 0,
    "hideHardwareSpecs": false,
    "memoryGiB": 192,
    "name": "ml.m5.12xlarge",
    "vcpuNum": 48
   },
   {
    "_defaultOrder": 10,
    "_isFastLaunch": false,
    "category": "General purpose",
    "gpuNum": 0,
    "hideHardwareSpecs": false,
    "memoryGiB": 256,
    "name": "ml.m5.16xlarge",
    "vcpuNum": 64
   },
   {
    "_defaultOrder": 11,
    "_isFastLaunch": false,
    "category": "General purpose",
    "gpuNum": 0,
    "hideHardwareSpecs": false,
    "memoryGiB": 384,
    "name": "ml.m5.24xlarge",
    "vcpuNum": 96
   },
   {
    "_defaultOrder": 12,
    "_isFastLaunch": false,
    "category": "General purpose",
    "gpuNum": 0,
    "hideHardwareSpecs": false,
    "memoryGiB": 8,
    "name": "ml.m5d.large",
    "vcpuNum": 2
   },
   {
    "_defaultOrder": 13,
    "_isFastLaunch": false,
    "category": "General purpose",
    "gpuNum": 0,
    "hideHardwareSpecs": false,
    "memoryGiB": 16,
    "name": "ml.m5d.xlarge",
    "vcpuNum": 4
   },
   {
    "_defaultOrder": 14,
    "_isFastLaunch": false,
    "category": "General purpose",
    "gpuNum": 0,
    "hideHardwareSpecs": false,
    "memoryGiB": 32,
    "name": "ml.m5d.2xlarge",
    "vcpuNum": 8
   },
   {
    "_defaultOrder": 15,
    "_isFastLaunch": false,
    "category": "General purpose",
    "gpuNum": 0,
    "hideHardwareSpecs": false,
    "memoryGiB": 64,
    "name": "ml.m5d.4xlarge",
    "vcpuNum": 16
   },
   {
    "_defaultOrder": 16,
    "_isFastLaunch": false,
    "category": "General purpose",
    "gpuNum": 0,
    "hideHardwareSpecs": false,
    "memoryGiB": 128,
    "name": "ml.m5d.8xlarge",
    "vcpuNum": 32
   },
   {
    "_defaultOrder": 17,
    "_isFastLaunch": false,
    "category": "General purpose",
    "gpuNum": 0,
    "hideHardwareSpecs": false,
    "memoryGiB": 192,
    "name": "ml.m5d.12xlarge",
    "vcpuNum": 48
   },
   {
    "_defaultOrder": 18,
    "_isFastLaunch": false,
    "category": "General purpose",
    "gpuNum": 0,
    "hideHardwareSpecs": false,
    "memoryGiB": 256,
    "name": "ml.m5d.16xlarge",
    "vcpuNum": 64
   },
   {
    "_defaultOrder": 19,
    "_isFastLaunch": false,
    "category": "General purpose",
    "gpuNum": 0,
    "hideHardwareSpecs": false,
    "memoryGiB": 384,
    "name": "ml.m5d.24xlarge",
    "vcpuNum": 96
   },
   {
    "_defaultOrder": 20,
    "_isFastLaunch": false,
    "category": "General purpose",
    "gpuNum": 0,
    "hideHardwareSpecs": true,
    "memoryGiB": 0,
    "name": "ml.geospatial.interactive",
    "supportedImageNames": [
     "sagemaker-geospatial-v1-0"
    ],
    "vcpuNum": 0
   },
   {
    "_defaultOrder": 21,
    "_isFastLaunch": true,
    "category": "Compute optimized",
    "gpuNum": 0,
    "hideHardwareSpecs": false,
    "memoryGiB": 4,
    "name": "ml.c5.large",
    "vcpuNum": 2
   },
   {
    "_defaultOrder": 22,
    "_isFastLaunch": false,
    "category": "Compute optimized",
    "gpuNum": 0,
    "hideHardwareSpecs": false,
    "memoryGiB": 8,
    "name": "ml.c5.xlarge",
    "vcpuNum": 4
   },
   {
    "_defaultOrder": 23,
    "_isFastLaunch": false,
    "category": "Compute optimized",
    "gpuNum": 0,
    "hideHardwareSpecs": false,
    "memoryGiB": 16,
    "name": "ml.c5.2xlarge",
    "vcpuNum": 8
   },
   {
    "_defaultOrder": 24,
    "_isFastLaunch": false,
    "category": "Compute optimized",
    "gpuNum": 0,
    "hideHardwareSpecs": false,
    "memoryGiB": 32,
    "name": "ml.c5.4xlarge",
    "vcpuNum": 16
   },
   {
    "_defaultOrder": 25,
    "_isFastLaunch": false,
    "category": "Compute optimized",
    "gpuNum": 0,
    "hideHardwareSpecs": false,
    "memoryGiB": 72,
    "name": "ml.c5.9xlarge",
    "vcpuNum": 36
   },
   {
    "_defaultOrder": 26,
    "_isFastLaunch": false,
    "category": "Compute optimized",
    "gpuNum": 0,
    "hideHardwareSpecs": false,
    "memoryGiB": 96,
    "name": "ml.c5.12xlarge",
    "vcpuNum": 48
   },
   {
    "_defaultOrder": 27,
    "_isFastLaunch": false,
    "category": "Compute optimized",
    "gpuNum": 0,
    "hideHardwareSpecs": false,
    "memoryGiB": 144,
    "name": "ml.c5.18xlarge",
    "vcpuNum": 72
   },
   {
    "_defaultOrder": 28,
    "_isFastLaunch": false,
    "category": "Compute optimized",
    "gpuNum": 0,
    "hideHardwareSpecs": false,
    "memoryGiB": 192,
    "name": "ml.c5.24xlarge",
    "vcpuNum": 96
   },
   {
    "_defaultOrder": 29,
    "_isFastLaunch": true,
    "category": "Accelerated computing",
    "gpuNum": 1,
    "hideHardwareSpecs": false,
    "memoryGiB": 16,
    "name": "ml.g4dn.xlarge",
    "vcpuNum": 4
   },
   {
    "_defaultOrder": 30,
    "_isFastLaunch": false,
    "category": "Accelerated computing",
    "gpuNum": 1,
    "hideHardwareSpecs": false,
    "memoryGiB": 32,
    "name": "ml.g4dn.2xlarge",
    "vcpuNum": 8
   },
   {
    "_defaultOrder": 31,
    "_isFastLaunch": false,
    "category": "Accelerated computing",
    "gpuNum": 1,
    "hideHardwareSpecs": false,
    "memoryGiB": 64,
    "name": "ml.g4dn.4xlarge",
    "vcpuNum": 16
   },
   {
    "_defaultOrder": 32,
    "_isFastLaunch": false,
    "category": "Accelerated computing",
    "gpuNum": 1,
    "hideHardwareSpecs": false,
    "memoryGiB": 128,
    "name": "ml.g4dn.8xlarge",
    "vcpuNum": 32
   },
   {
    "_defaultOrder": 33,
    "_isFastLaunch": false,
    "category": "Accelerated computing",
    "gpuNum": 4,
    "hideHardwareSpecs": false,
    "memoryGiB": 192,
    "name": "ml.g4dn.12xlarge",
    "vcpuNum": 48
   },
   {
    "_defaultOrder": 34,
    "_isFastLaunch": false,
    "category": "Accelerated computing",
    "gpuNum": 1,
    "hideHardwareSpecs": false,
    "memoryGiB": 256,
    "name": "ml.g4dn.16xlarge",
    "vcpuNum": 64
   },
   {
    "_defaultOrder": 35,
    "_isFastLaunch": false,
    "category": "Accelerated computing",
    "gpuNum": 1,
    "hideHardwareSpecs": false,
    "memoryGiB": 61,
    "name": "ml.p3.2xlarge",
    "vcpuNum": 8
   },
   {
    "_defaultOrder": 36,
    "_isFastLaunch": false,
    "category": "Accelerated computing",
    "gpuNum": 4,
    "hideHardwareSpecs": false,
    "memoryGiB": 244,
    "name": "ml.p3.8xlarge",
    "vcpuNum": 32
   },
   {
    "_defaultOrder": 37,
    "_isFastLaunch": false,
    "category": "Accelerated computing",
    "gpuNum": 8,
    "hideHardwareSpecs": false,
    "memoryGiB": 488,
    "name": "ml.p3.16xlarge",
    "vcpuNum": 64
   },
   {
    "_defaultOrder": 38,
    "_isFastLaunch": false,
    "category": "Accelerated computing",
    "gpuNum": 8,
    "hideHardwareSpecs": false,
    "memoryGiB": 768,
    "name": "ml.p3dn.24xlarge",
    "vcpuNum": 96
   },
   {
    "_defaultOrder": 39,
    "_isFastLaunch": false,
    "category": "Memory Optimized",
    "gpuNum": 0,
    "hideHardwareSpecs": false,
    "memoryGiB": 16,
    "name": "ml.r5.large",
    "vcpuNum": 2
   },
   {
    "_defaultOrder": 40,
    "_isFastLaunch": false,
    "category": "Memory Optimized",
    "gpuNum": 0,
    "hideHardwareSpecs": false,
    "memoryGiB": 32,
    "name": "ml.r5.xlarge",
    "vcpuNum": 4
   },
   {
    "_defaultOrder": 41,
    "_isFastLaunch": false,
    "category": "Memory Optimized",
    "gpuNum": 0,
    "hideHardwareSpecs": false,
    "memoryGiB": 64,
    "name": "ml.r5.2xlarge",
    "vcpuNum": 8
   },
   {
    "_defaultOrder": 42,
    "_isFastLaunch": false,
    "category": "Memory Optimized",
    "gpuNum": 0,
    "hideHardwareSpecs": false,
    "memoryGiB": 128,
    "name": "ml.r5.4xlarge",
    "vcpuNum": 16
   },
   {
    "_defaultOrder": 43,
    "_isFastLaunch": false,
    "category": "Memory Optimized",
    "gpuNum": 0,
    "hideHardwareSpecs": false,
    "memoryGiB": 256,
    "name": "ml.r5.8xlarge",
    "vcpuNum": 32
   },
   {
    "_defaultOrder": 44,
    "_isFastLaunch": false,
    "category": "Memory Optimized",
    "gpuNum": 0,
    "hideHardwareSpecs": false,
    "memoryGiB": 384,
    "name": "ml.r5.12xlarge",
    "vcpuNum": 48
   },
   {
    "_defaultOrder": 45,
    "_isFastLaunch": false,
    "category": "Memory Optimized",
    "gpuNum": 0,
    "hideHardwareSpecs": false,
    "memoryGiB": 512,
    "name": "ml.r5.16xlarge",
    "vcpuNum": 64
   },
   {
    "_defaultOrder": 46,
    "_isFastLaunch": false,
    "category": "Memory Optimized",
    "gpuNum": 0,
    "hideHardwareSpecs": false,
    "memoryGiB": 768,
    "name": "ml.r5.24xlarge",
    "vcpuNum": 96
   },
   {
    "_defaultOrder": 47,
    "_isFastLaunch": false,
    "category": "Accelerated computing",
    "gpuNum": 1,
    "hideHardwareSpecs": false,
    "memoryGiB": 16,
    "name": "ml.g5.xlarge",
    "vcpuNum": 4
   },
   {
    "_defaultOrder": 48,
    "_isFastLaunch": false,
    "category": "Accelerated computing",
    "gpuNum": 1,
    "hideHardwareSpecs": false,
    "memoryGiB": 32,
    "name": "ml.g5.2xlarge",
    "vcpuNum": 8
   },
   {
    "_defaultOrder": 49,
    "_isFastLaunch": false,
    "category": "Accelerated computing",
    "gpuNum": 1,
    "hideHardwareSpecs": false,
    "memoryGiB": 64,
    "name": "ml.g5.4xlarge",
    "vcpuNum": 16
   },
   {
    "_defaultOrder": 50,
    "_isFastLaunch": false,
    "category": "Accelerated computing",
    "gpuNum": 1,
    "hideHardwareSpecs": false,
    "memoryGiB": 128,
    "name": "ml.g5.8xlarge",
    "vcpuNum": 32
   },
   {
    "_defaultOrder": 51,
    "_isFastLaunch": false,
    "category": "Accelerated computing",
    "gpuNum": 1,
    "hideHardwareSpecs": false,
    "memoryGiB": 256,
    "name": "ml.g5.16xlarge",
    "vcpuNum": 64
   },
   {
    "_defaultOrder": 52,
    "_isFastLaunch": false,
    "category": "Accelerated computing",
    "gpuNum": 4,
    "hideHardwareSpecs": false,
    "memoryGiB": 192,
    "name": "ml.g5.12xlarge",
    "vcpuNum": 48
   },
   {
    "_defaultOrder": 53,
    "_isFastLaunch": false,
    "category": "Accelerated computing",
    "gpuNum": 4,
    "hideHardwareSpecs": false,
    "memoryGiB": 384,
    "name": "ml.g5.24xlarge",
    "vcpuNum": 96
   },
   {
    "_defaultOrder": 54,
    "_isFastLaunch": false,
    "category": "Accelerated computing",
    "gpuNum": 8,
    "hideHardwareSpecs": false,
    "memoryGiB": 768,
    "name": "ml.g5.48xlarge",
    "vcpuNum": 192
   },
   {
    "_defaultOrder": 55,
    "_isFastLaunch": false,
    "category": "Accelerated computing",
    "gpuNum": 8,
    "hideHardwareSpecs": false,
    "memoryGiB": 1152,
    "name": "ml.p4d.24xlarge",
    "vcpuNum": 96
   },
   {
    "_defaultOrder": 56,
    "_isFastLaunch": false,
    "category": "Accelerated computing",
    "gpuNum": 8,
    "hideHardwareSpecs": false,
    "memoryGiB": 1152,
    "name": "ml.p4de.24xlarge",
    "vcpuNum": 96
   }
  ],
  "instance_type": "ml.m5.4xlarge",
  "kernelspec": {
   "display_name": "Python 3 (TensorFlow 2.12.0 Python 3.10 CPU Optimized)",
   "language": "python",
   "name": "python3__SAGEMAKER_INTERNAL__arn:aws:sagemaker:us-east-1:081325390199:image/tensorflow-2.12.0-cpu-py310-ubuntu20.04-sagemaker-v1"
  },
  "language_info": {
   "codemirror_mode": {
    "name": "ipython",
    "version": 3
   },
   "file_extension": ".py",
   "mimetype": "text/x-python",
   "name": "python",
   "nbconvert_exporter": "python",
   "pygments_lexer": "ipython3",
   "version": "3.10.10"
  }
 },
 "nbformat": 4,
 "nbformat_minor": 5
}
